{
 "cells": [
  {
   "cell_type": "markdown",
   "metadata": {},
   "source": [
    "# you can choose a friend and send whatever you want"
   ]
  },
  {
   "cell_type": "code",
   "execution_count": 1,
   "metadata": {},
   "outputs": [
    {
     "name": "stdout",
     "output_type": "stream",
     "text": [
      "█\r"
     ]
    },
    {
     "name": "stderr",
     "output_type": "stream",
     "text": [
      "Please press confirm on your phone.\n",
      "Loading the contact, this may take a little while.\n",
      "Login successfully as 牛法富\n"
     ]
    },
    {
     "data": {
      "text/plain": [
       "'\\n@newInstance.msg_register(itchat.content.TEXT)\\ndef reply(msg):\\n    return msg.text\\n'"
      ]
     },
     "execution_count": 1,
     "metadata": {},
     "output_type": "execute_result"
    }
   ],
   "source": [
    "import itchat\n",
    "\n",
    "newInstance = itchat.new_instance()\n",
    "newInstance.auto_login(hotReload=True, statusStorageDir='newInstance.pkl')\n",
    "'''\n",
    "@newInstance.msg_register(itchat.content.TEXT)\n",
    "def reply(msg):\n",
    "    return msg.text\n",
    "'''"
   ]
  },
  {
   "cell_type": "code",
   "execution_count": 48,
   "metadata": {
    "collapsed": true
   },
   "outputs": [],
   "source": [
    "def sendmsg(text,username):\n",
    "    newInstance.send(text, toUserName=username)\n",
    "    print(\"message sended: \",text)\n",
    "\n",
    "def get_username(name):\n",
    "    users = newInstance.search_friends(name=name)\n",
    "    username=str(users[0]).split(\",\")[2].split(\":\")[1].strip().replace(\"'\",'')\n",
    "    return username"
   ]
  },
  {
   "cell_type": "code",
   "execution_count": 68,
   "metadata": {
    "scrolled": true
   },
   "outputs": [
    {
     "name": "stdout",
     "output_type": "stream",
     "text": [
      "['0-->牛法富', '1-->会飞的牛', '2-->许可', '3-->王乐乐', '4-->贾彦鹤', '5-->我心飞翔', '6-->牛牛', '7-->Z', '8-->100卢熙Lucy', '9-->林慧', '10-->肖月', '11-->邓小xu', '12-->Adam Oakley', '13-->grace', '14-->安', '15-->Zhiyi', '16-->刘策', '17-->kevan', '18-->牛牛', '19-->盛源国际', '20-->阿不都', '21-->陈文俊', '22-->汤雨诗', '23-->郭秋菊老师', '24-->秦泓江', '25-->张燕', '26-->卜文庭', '27-->王栋梁', '28-->牛振刚', '29-->孙志凌', '30-->Joey', '31-->孟维', '32-->赵丽敏', '33-->王芳', '34-->张杰', '35-->草原雄鹰', '36-->张家然', '37-->硕眼牛', '38-->郑平辉', '39-->梦想', '40-->陈银娟', '41-->慧慧', '42-->武成章', '43-->臧甲杰', '44-->贪吃猫，投资群', '45-->胡玉琴', '46-->jimyang', '47-->灰灰', '48-->Tiger', '49-->好朋友', '50-->温哥华 佐格 旅行社&amp;专车服务', '51-->牛眼', '52-->Gaudi', '53-->李斌', '54-->Jack Cheng', '55-->郭璐', '56-->王志民', '57-->江英', '58-->刘黎明', '59-->万文杰', '60-->萌宝', '61-->高迪', '62-->孙军渭', '63-->王晓磊', '64-->格格🌿', '65-->无声', '66-->李叔叔', '67-->老付', '68-->李川一', '69-->Follow Me', '70-->李大燕', '71-->Liu Michael 技术科技投资', '72-->济南富源雕塑有限公司', '73-->华脉软件技术支持', '74-->亮灯-作家', '75-->王洋洋', '76-->地图', '77-->牛雷', '78-->王秋燕', '79-->徐洁', '80-->张磊', '81-->暖冰', '82-->金曼', '83-->今天宾馆欢迎您！', '84-->苏以勒', '85-->邵力量', '86-->Ian', '87-->Sharon🐱🐱', '88-->陶伟', '89-->程思涵', '90-->lina', '91-->徐康', '92-->安华山', '93-->Liu Qing', '94-->刘韬', '95-->牛法收', '96-->李坤', '97-->AAA网站建设与优化～15253134653', '98-->大通粮油', '99-->李宏召', '100-->徐Ran', '101-->Robin-upass', '102-->安华雷', '103-->张白茹', '104-->哥哥', '105-->WeiKun', '106-->Tang', '107-->Cherie', '108-->孔庆存先生', '109-->蒋纬', '110-->林斯波', '111-->李光第', '112-->邢亚凡', '113-->恢诡谲怪，道通为一', '114-->张峰', '115-->李艾薇', '116-->amy-upass', '117-->sssssssss', '118-->Brenna ', '119-->张传雨', '120-->牛法荣', '121-->张倩', '122-->翼佳速递 778-885-5585', '123-->郑佳佳', '124-->马平准', '125-->杨俏妞', '126-->石林', '127-->郭慧', '128-->孙钦臣', '129-->朱芬crystalluxia', '130-->小粒可', '131-->杨桂青', '132-->小敏', '133-->李涛哥', '134-->王润娜_人民大学', '135-->鹏鹤快递', '136-->牛三少', '137-->王洪叶', '138-->赵红波', '139-->fic 传媒同学', '140-->朱琳ITA', '141-->wendy chan', '142-->张猛', '143-->Ni', '144-->李惠', '145-->邓兴野', '146-->徐铮', '147-->非桐小可', '148-->李小燕', '149-->牛佳瑞', '150-->张颖', '151-->张太坤', '152-->张平一', '153-->王润娜', '154-->Nan Chen', '155-->孟军华', '156-->思堂', '157-->美蓉 Rosaly', '158-->布瓜', '159-->张一鹏', '160-->海润', '161-->振华哥哥', '162-->行道', '163-->Jenny-upass', '164-->董云鹤', '165-->🤤', '166-->yiyi shen', '167-->孙轲', '168-->小伟', '169-->Azmarie', '170-->王聪', '171-->梁总', '172-->李淑华', '173-->高远💘💯', '174-->雨露', '175-->Libra 平', '176-->玉之诺•🍀', '177-->优惠达人 (VanSave)', '178-->李秀华 ubc', '179-->张辰', '180-->王英丽', '181-->王荣荣', '182-->洪岩', '183-->陈浩', '184-->香辣小猪熊🐷🐻', '185-->子妍', '186-->于建伟', '187-->王鹏飞', '188-->苗冬凯 Maxwell', '189-->王雯静', '190-->寒仔Mayday', '191-->赵晨光', '192-->雪岩', '193-->苗博雅', '194-->俎光照', '195-->孙连祥', '196-->王莹', '197-->A** guo✨', '198-->刘笑笑', '199-->靳栋梁', '200-->Yolanda-upass', '201-->张志刚', '202-->朱庆波', '203-->丰清元 Qingyuan Feng', '204-->李世豪（牛逸朋友）', '205-->牛相福', '206-->唯有行动才能改变命运', '207-->不抽烟', '208-->周迅', '209-->赵继飞', '210-->Fastgo客服主号-离线', '211-->Kingston（sfu cs）', '212-->王睿', '213-->徐金鑫', '214-->陈阳梅', '215-->🇨🇳翟警官', '216-->心软脾气硬']\n"
     ]
    }
   ],
   "source": [
    "#print the namelist of you frinds:\n",
    "friends=newInstance.get_friends(update=True)[0:]\n",
    "namelist=[]\n",
    "for num, i in enumerate(friends):\n",
    "    \n",
    "    if len(i[\"RemarkName\"])>0:\n",
    "        name=i[\"RemarkName\"]\n",
    "    else:\n",
    "        name=i[\"NickName\"]\n",
    "    namelist.append(str(num)+\"-->\"+name)\n",
    "import pprint\n",
    "print(namelist)"
   ]
  },
  {
   "cell_type": "code",
   "execution_count": 95,
   "metadata": {},
   "outputs": [
    {
     "name": "stdout",
     "output_type": "stream",
     "text": [
      "Input the number of perpson your want to send message:34\n",
      "your are chooseing====>>>    Sunny\n"
     ]
    }
   ],
   "source": [
    "#choose a friends\n",
    "num=input(\"Input the number of perpson your want to send message:\")\n",
    "print(\"your are chooseing====>>>   \",friends[int(num)][\"NickName\"])\n",
    "username=friends[int(num)][\"UserName\"]"
   ]
  },
  {
   "cell_type": "code",
   "execution_count": 96,
   "metadata": {},
   "outputs": [
    {
     "name": "stdout",
     "output_type": "stream",
     "text": [
      "message your want send:hello\n",
      "message sended:  hello\n"
     ]
    },
    {
     "name": "stderr",
     "output_type": "stream",
     "text": [
      "Traceback (most recent call last):\n",
      "  File \"/home/fafun/anaconda3/lib/python3.6/site-packages/requests/packages/urllib3/connection.py\", line 138, in _new_conn\n",
      "    (self.host, self.port), self.timeout, **extra_kw)\n",
      "  File \"/home/fafun/anaconda3/lib/python3.6/site-packages/requests/packages/urllib3/util/connection.py\", line 75, in create_connection\n",
      "    for res in socket.getaddrinfo(host, port, family, socket.SOCK_STREAM):\n",
      "  File \"/home/fafun/anaconda3/lib/python3.6/socket.py\", line 743, in getaddrinfo\n",
      "    for res in _socket.getaddrinfo(host, port, family, type, proto, flags):\n",
      "socket.gaierror: [Errno -3] Temporary failure in name resolution\n",
      "\n",
      "During handling of the above exception, another exception occurred:\n",
      "\n",
      "Traceback (most recent call last):\n",
      "  File \"/home/fafun/anaconda3/lib/python3.6/site-packages/requests/packages/urllib3/connectionpool.py\", line 594, in urlopen\n",
      "    chunked=chunked)\n",
      "  File \"/home/fafun/anaconda3/lib/python3.6/site-packages/requests/packages/urllib3/connectionpool.py\", line 350, in _make_request\n",
      "    self._validate_conn(conn)\n",
      "  File \"/home/fafun/anaconda3/lib/python3.6/site-packages/requests/packages/urllib3/connectionpool.py\", line 835, in _validate_conn\n",
      "    conn.connect()\n",
      "  File \"/home/fafun/anaconda3/lib/python3.6/site-packages/requests/packages/urllib3/connection.py\", line 281, in connect\n",
      "    conn = self._new_conn()\n",
      "  File \"/home/fafun/anaconda3/lib/python3.6/site-packages/requests/packages/urllib3/connection.py\", line 147, in _new_conn\n",
      "    self, \"Failed to establish a new connection: %s\" % e)\n",
      "requests.packages.urllib3.exceptions.NewConnectionError: <requests.packages.urllib3.connection.VerifiedHTTPSConnection object at 0x2b12c15be198>: Failed to establish a new connection: [Errno -3] Temporary failure in name resolution\n",
      "\n",
      "During handling of the above exception, another exception occurred:\n",
      "\n",
      "Traceback (most recent call last):\n",
      "  File \"/home/fafun/anaconda3/lib/python3.6/site-packages/requests/adapters.py\", line 423, in send\n",
      "    timeout=timeout\n",
      "  File \"/home/fafun/anaconda3/lib/python3.6/site-packages/requests/packages/urllib3/connectionpool.py\", line 643, in urlopen\n",
      "    _stacktrace=sys.exc_info()[2])\n",
      "  File \"/home/fafun/anaconda3/lib/python3.6/site-packages/requests/packages/urllib3/util/retry.py\", line 363, in increment\n",
      "    raise MaxRetryError(_pool, url, error or ResponseError(cause))\n",
      "requests.packages.urllib3.exceptions.MaxRetryError: HTTPSConnectionPool(host='webpush.wx.qq.com', port=443): Max retries exceeded with url: /cgi-bin/mmwebwx-bin/synccheck?r=1501437299730&skey=%40crypt_78a6b0c7_95a57eafde4a2eaabeef7788f6a46345&sid=mXYIM%2Ba93qQxYVs7&uin=1244902121&deviceid=e220477792206298&synckey=1_663596936%7C2_663596945%7C3_663596469%7C11_663596525%7C13_663480288%7C201_1501436295%7C203_1501422286%7C1000_1501428340%7C1001_1501409192%7C1002_1500889686&_=1501437299730 (Caused by NewConnectionError('<requests.packages.urllib3.connection.VerifiedHTTPSConnection object at 0x2b12c15be198>: Failed to establish a new connection: [Errno -3] Temporary failure in name resolution',))\n",
      "\n",
      "During handling of the above exception, another exception occurred:\n",
      "\n",
      "Traceback (most recent call last):\n",
      "  File \"/home/fafun/anaconda3/lib/python3.6/site-packages/itchat/components/login.py\", line 300, in sync_check\n",
      "    r = self.s.get(url, params=params, headers=headers, timeout=config.TIMEOUT)\n",
      "  File \"/home/fafun/anaconda3/lib/python3.6/site-packages/requests/sessions.py\", line 501, in get\n",
      "    return self.request('GET', url, **kwargs)\n",
      "  File \"/home/fafun/anaconda3/lib/python3.6/site-packages/requests/sessions.py\", line 488, in request\n",
      "    resp = self.send(prep, **send_kwargs)\n",
      "  File \"/home/fafun/anaconda3/lib/python3.6/site-packages/requests/sessions.py\", line 609, in send\n",
      "    r = adapter.send(request, **kwargs)\n",
      "  File \"/home/fafun/anaconda3/lib/python3.6/site-packages/requests/adapters.py\", line 487, in send\n",
      "    raise ConnectionError(e, request=request)\n",
      "requests.exceptions.ConnectionError: HTTPSConnectionPool(host='webpush.wx.qq.com', port=443): Max retries exceeded with url: /cgi-bin/mmwebwx-bin/synccheck?r=1501437299730&skey=%40crypt_78a6b0c7_95a57eafde4a2eaabeef7788f6a46345&sid=mXYIM%2Ba93qQxYVs7&uin=1244902121&deviceid=e220477792206298&synckey=1_663596936%7C2_663596945%7C3_663596469%7C11_663596525%7C13_663480288%7C201_1501436295%7C203_1501422286%7C1000_1501428340%7C1001_1501409192%7C1002_1500889686&_=1501437299730 (Caused by NewConnectionError('<requests.packages.urllib3.connection.VerifiedHTTPSConnection object at 0x2b12c15be198>: Failed to establish a new connection: [Errno -3] Temporary failure in name resolution',))\n",
      "\n",
      "During handling of the above exception, another exception occurred:\n",
      "\n",
      "Traceback (most recent call last):\n",
      "  File \"/home/fafun/anaconda3/lib/python3.6/site-packages/itchat/components/login.py\", line 244, in maintain_loop\n",
      "    i = sync_check(self)\n",
      "  File \"/home/fafun/anaconda3/lib/python3.6/site-packages/itchat/components/login.py\", line 303, in sync_check\n",
      "    if not isinstance(e.args[0].args[1], BadStatusLine):\n",
      "IndexError: tuple index out of range\n",
      "\n",
      "Traceback (most recent call last):\n",
      "  File \"/home/fafun/anaconda3/lib/python3.6/site-packages/requests/packages/urllib3/connection.py\", line 138, in _new_conn\n",
      "    (self.host, self.port), self.timeout, **extra_kw)\n",
      "  File \"/home/fafun/anaconda3/lib/python3.6/site-packages/requests/packages/urllib3/util/connection.py\", line 75, in create_connection\n",
      "    for res in socket.getaddrinfo(host, port, family, socket.SOCK_STREAM):\n",
      "  File \"/home/fafun/anaconda3/lib/python3.6/socket.py\", line 743, in getaddrinfo\n",
      "    for res in _socket.getaddrinfo(host, port, family, type, proto, flags):\n",
      "socket.gaierror: [Errno -3] Temporary failure in name resolution\n",
      "\n",
      "During handling of the above exception, another exception occurred:\n",
      "\n",
      "Traceback (most recent call last):\n",
      "  File \"/home/fafun/anaconda3/lib/python3.6/site-packages/requests/packages/urllib3/connectionpool.py\", line 594, in urlopen\n",
      "    chunked=chunked)\n",
      "  File \"/home/fafun/anaconda3/lib/python3.6/site-packages/requests/packages/urllib3/connectionpool.py\", line 350, in _make_request\n",
      "    self._validate_conn(conn)\n",
      "  File \"/home/fafun/anaconda3/lib/python3.6/site-packages/requests/packages/urllib3/connectionpool.py\", line 835, in _validate_conn\n",
      "    conn.connect()\n",
      "  File \"/home/fafun/anaconda3/lib/python3.6/site-packages/requests/packages/urllib3/connection.py\", line 281, in connect\n",
      "    conn = self._new_conn()\n",
      "  File \"/home/fafun/anaconda3/lib/python3.6/site-packages/requests/packages/urllib3/connection.py\", line 147, in _new_conn\n",
      "    self, \"Failed to establish a new connection: %s\" % e)\n",
      "requests.packages.urllib3.exceptions.NewConnectionError: <requests.packages.urllib3.connection.VerifiedHTTPSConnection object at 0x2b12a82cb5c0>: Failed to establish a new connection: [Errno -3] Temporary failure in name resolution\n",
      "\n",
      "During handling of the above exception, another exception occurred:\n",
      "\n",
      "Traceback (most recent call last):\n",
      "  File \"/home/fafun/anaconda3/lib/python3.6/site-packages/requests/adapters.py\", line 423, in send\n",
      "    timeout=timeout\n",
      "  File \"/home/fafun/anaconda3/lib/python3.6/site-packages/requests/packages/urllib3/connectionpool.py\", line 643, in urlopen\n",
      "    _stacktrace=sys.exc_info()[2])\n",
      "  File \"/home/fafun/anaconda3/lib/python3.6/site-packages/requests/packages/urllib3/util/retry.py\", line 363, in increment\n",
      "    raise MaxRetryError(_pool, url, error or ResponseError(cause))\n",
      "requests.packages.urllib3.exceptions.MaxRetryError: HTTPSConnectionPool(host='webpush.wx.qq.com', port=443): Max retries exceeded with url: /cgi-bin/mmwebwx-bin/synccheck?r=1501437320761&skey=%40crypt_78a6b0c7_95a57eafde4a2eaabeef7788f6a46345&sid=mXYIM%2Ba93qQxYVs7&uin=1244902121&deviceid=e220477792206298&synckey=1_663596936%7C2_663596945%7C3_663596469%7C11_663596525%7C13_663480288%7C201_1501436295%7C203_1501422286%7C1000_1501428340%7C1001_1501409192%7C1002_1500889686&_=1501437320761 (Caused by NewConnectionError('<requests.packages.urllib3.connection.VerifiedHTTPSConnection object at 0x2b12a82cb5c0>: Failed to establish a new connection: [Errno -3] Temporary failure in name resolution',))\n",
      "\n",
      "During handling of the above exception, another exception occurred:\n",
      "\n",
      "Traceback (most recent call last):\n",
      "  File \"/home/fafun/anaconda3/lib/python3.6/site-packages/itchat/components/login.py\", line 300, in sync_check\n",
      "    r = self.s.get(url, params=params, headers=headers, timeout=config.TIMEOUT)\n",
      "  File \"/home/fafun/anaconda3/lib/python3.6/site-packages/requests/sessions.py\", line 501, in get\n",
      "    return self.request('GET', url, **kwargs)\n",
      "  File \"/home/fafun/anaconda3/lib/python3.6/site-packages/requests/sessions.py\", line 488, in request\n",
      "    resp = self.send(prep, **send_kwargs)\n",
      "  File \"/home/fafun/anaconda3/lib/python3.6/site-packages/requests/sessions.py\", line 609, in send\n",
      "    r = adapter.send(request, **kwargs)\n",
      "  File \"/home/fafun/anaconda3/lib/python3.6/site-packages/requests/adapters.py\", line 487, in send\n",
      "    raise ConnectionError(e, request=request)\n",
      "requests.exceptions.ConnectionError: HTTPSConnectionPool(host='webpush.wx.qq.com', port=443): Max retries exceeded with url: /cgi-bin/mmwebwx-bin/synccheck?r=1501437320761&skey=%40crypt_78a6b0c7_95a57eafde4a2eaabeef7788f6a46345&sid=mXYIM%2Ba93qQxYVs7&uin=1244902121&deviceid=e220477792206298&synckey=1_663596936%7C2_663596945%7C3_663596469%7C11_663596525%7C13_663480288%7C201_1501436295%7C203_1501422286%7C1000_1501428340%7C1001_1501409192%7C1002_1500889686&_=1501437320761 (Caused by NewConnectionError('<requests.packages.urllib3.connection.VerifiedHTTPSConnection object at 0x2b12a82cb5c0>: Failed to establish a new connection: [Errno -3] Temporary failure in name resolution',))\n",
      "\n",
      "During handling of the above exception, another exception occurred:\n",
      "\n",
      "Traceback (most recent call last):\n",
      "  File \"/home/fafun/anaconda3/lib/python3.6/site-packages/itchat/components/login.py\", line 244, in maintain_loop\n",
      "    i = sync_check(self)\n",
      "  File \"/home/fafun/anaconda3/lib/python3.6/site-packages/itchat/components/login.py\", line 303, in sync_check\n",
      "    if not isinstance(e.args[0].args[1], BadStatusLine):\n",
      "IndexError: tuple index out of range\n",
      "\n"
     ]
    },
    {
     "name": "stderr",
     "output_type": "stream",
     "text": [
      "Traceback (most recent call last):\n",
      "  File \"/home/fafun/anaconda3/lib/python3.6/site-packages/requests/packages/urllib3/connection.py\", line 138, in _new_conn\n",
      "    (self.host, self.port), self.timeout, **extra_kw)\n",
      "  File \"/home/fafun/anaconda3/lib/python3.6/site-packages/requests/packages/urllib3/util/connection.py\", line 75, in create_connection\n",
      "    for res in socket.getaddrinfo(host, port, family, socket.SOCK_STREAM):\n",
      "  File \"/home/fafun/anaconda3/lib/python3.6/socket.py\", line 743, in getaddrinfo\n",
      "    for res in _socket.getaddrinfo(host, port, family, type, proto, flags):\n",
      "socket.gaierror: [Errno -3] Temporary failure in name resolution\n",
      "\n",
      "During handling of the above exception, another exception occurred:\n",
      "\n",
      "Traceback (most recent call last):\n",
      "  File \"/home/fafun/anaconda3/lib/python3.6/site-packages/requests/packages/urllib3/connectionpool.py\", line 594, in urlopen\n",
      "    chunked=chunked)\n",
      "  File \"/home/fafun/anaconda3/lib/python3.6/site-packages/requests/packages/urllib3/connectionpool.py\", line 350, in _make_request\n",
      "    self._validate_conn(conn)\n",
      "  File \"/home/fafun/anaconda3/lib/python3.6/site-packages/requests/packages/urllib3/connectionpool.py\", line 835, in _validate_conn\n",
      "    conn.connect()\n",
      "  File \"/home/fafun/anaconda3/lib/python3.6/site-packages/requests/packages/urllib3/connection.py\", line 281, in connect\n",
      "    conn = self._new_conn()\n",
      "  File \"/home/fafun/anaconda3/lib/python3.6/site-packages/requests/packages/urllib3/connection.py\", line 147, in _new_conn\n",
      "    self, \"Failed to establish a new connection: %s\" % e)\n",
      "requests.packages.urllib3.exceptions.NewConnectionError: <requests.packages.urllib3.connection.VerifiedHTTPSConnection object at 0x2b12a82cb9e8>: Failed to establish a new connection: [Errno -3] Temporary failure in name resolution\n",
      "\n",
      "During handling of the above exception, another exception occurred:\n",
      "\n",
      "Traceback (most recent call last):\n",
      "  File \"/home/fafun/anaconda3/lib/python3.6/site-packages/requests/adapters.py\", line 423, in send\n",
      "    timeout=timeout\n",
      "  File \"/home/fafun/anaconda3/lib/python3.6/site-packages/requests/packages/urllib3/connectionpool.py\", line 643, in urlopen\n",
      "    _stacktrace=sys.exc_info()[2])\n",
      "  File \"/home/fafun/anaconda3/lib/python3.6/site-packages/requests/packages/urllib3/util/retry.py\", line 363, in increment\n",
      "    raise MaxRetryError(_pool, url, error or ResponseError(cause))\n",
      "requests.packages.urllib3.exceptions.MaxRetryError: HTTPSConnectionPool(host='webpush.wx.qq.com', port=443): Max retries exceeded with url: /cgi-bin/mmwebwx-bin/synccheck?r=1501437341792&skey=%40crypt_78a6b0c7_95a57eafde4a2eaabeef7788f6a46345&sid=mXYIM%2Ba93qQxYVs7&uin=1244902121&deviceid=e220477792206298&synckey=1_663596936%7C2_663596945%7C3_663596469%7C11_663596525%7C13_663480288%7C201_1501436295%7C203_1501422286%7C1000_1501428340%7C1001_1501409192%7C1002_1500889686&_=1501437341792 (Caused by NewConnectionError('<requests.packages.urllib3.connection.VerifiedHTTPSConnection object at 0x2b12a82cb9e8>: Failed to establish a new connection: [Errno -3] Temporary failure in name resolution',))\n",
      "\n",
      "During handling of the above exception, another exception occurred:\n",
      "\n",
      "Traceback (most recent call last):\n",
      "  File \"/home/fafun/anaconda3/lib/python3.6/site-packages/itchat/components/login.py\", line 300, in sync_check\n",
      "    r = self.s.get(url, params=params, headers=headers, timeout=config.TIMEOUT)\n",
      "  File \"/home/fafun/anaconda3/lib/python3.6/site-packages/requests/sessions.py\", line 501, in get\n",
      "    return self.request('GET', url, **kwargs)\n",
      "  File \"/home/fafun/anaconda3/lib/python3.6/site-packages/requests/sessions.py\", line 488, in request\n",
      "    resp = self.send(prep, **send_kwargs)\n",
      "  File \"/home/fafun/anaconda3/lib/python3.6/site-packages/requests/sessions.py\", line 609, in send\n",
      "    r = adapter.send(request, **kwargs)\n",
      "  File \"/home/fafun/anaconda3/lib/python3.6/site-packages/requests/adapters.py\", line 487, in send\n",
      "    raise ConnectionError(e, request=request)\n",
      "requests.exceptions.ConnectionError: HTTPSConnectionPool(host='webpush.wx.qq.com', port=443): Max retries exceeded with url: /cgi-bin/mmwebwx-bin/synccheck?r=1501437341792&skey=%40crypt_78a6b0c7_95a57eafde4a2eaabeef7788f6a46345&sid=mXYIM%2Ba93qQxYVs7&uin=1244902121&deviceid=e220477792206298&synckey=1_663596936%7C2_663596945%7C3_663596469%7C11_663596525%7C13_663480288%7C201_1501436295%7C203_1501422286%7C1000_1501428340%7C1001_1501409192%7C1002_1500889686&_=1501437341792 (Caused by NewConnectionError('<requests.packages.urllib3.connection.VerifiedHTTPSConnection object at 0x2b12a82cb9e8>: Failed to establish a new connection: [Errno -3] Temporary failure in name resolution',))\n",
      "\n",
      "During handling of the above exception, another exception occurred:\n",
      "\n",
      "Traceback (most recent call last):\n",
      "  File \"/home/fafun/anaconda3/lib/python3.6/site-packages/itchat/components/login.py\", line 244, in maintain_loop\n",
      "    i = sync_check(self)\n",
      "  File \"/home/fafun/anaconda3/lib/python3.6/site-packages/itchat/components/login.py\", line 303, in sync_check\n",
      "    if not isinstance(e.args[0].args[1], BadStatusLine):\n",
      "IndexError: tuple index out of range\n",
      "\n",
      "Traceback (most recent call last):\n",
      "  File \"/home/fafun/anaconda3/lib/python3.6/site-packages/requests/packages/urllib3/connection.py\", line 138, in _new_conn\n",
      "    (self.host, self.port), self.timeout, **extra_kw)\n",
      "  File \"/home/fafun/anaconda3/lib/python3.6/site-packages/requests/packages/urllib3/util/connection.py\", line 75, in create_connection\n",
      "    for res in socket.getaddrinfo(host, port, family, socket.SOCK_STREAM):\n",
      "  File \"/home/fafun/anaconda3/lib/python3.6/socket.py\", line 743, in getaddrinfo\n",
      "    for res in _socket.getaddrinfo(host, port, family, type, proto, flags):\n",
      "socket.gaierror: [Errno -3] Temporary failure in name resolution\n",
      "\n",
      "During handling of the above exception, another exception occurred:\n",
      "\n",
      "Traceback (most recent call last):\n",
      "  File \"/home/fafun/anaconda3/lib/python3.6/site-packages/requests/packages/urllib3/connectionpool.py\", line 594, in urlopen\n",
      "    chunked=chunked)\n",
      "  File \"/home/fafun/anaconda3/lib/python3.6/site-packages/requests/packages/urllib3/connectionpool.py\", line 350, in _make_request\n",
      "    self._validate_conn(conn)\n",
      "  File \"/home/fafun/anaconda3/lib/python3.6/site-packages/requests/packages/urllib3/connectionpool.py\", line 835, in _validate_conn\n",
      "    conn.connect()\n",
      "  File \"/home/fafun/anaconda3/lib/python3.6/site-packages/requests/packages/urllib3/connection.py\", line 281, in connect\n",
      "    conn = self._new_conn()\n",
      "  File \"/home/fafun/anaconda3/lib/python3.6/site-packages/requests/packages/urllib3/connection.py\", line 147, in _new_conn\n",
      "    self, \"Failed to establish a new connection: %s\" % e)\n",
      "requests.packages.urllib3.exceptions.NewConnectionError: <requests.packages.urllib3.connection.VerifiedHTTPSConnection object at 0x2b12a82cb5c0>: Failed to establish a new connection: [Errno -3] Temporary failure in name resolution\n",
      "\n",
      "During handling of the above exception, another exception occurred:\n",
      "\n",
      "Traceback (most recent call last):\n",
      "  File \"/home/fafun/anaconda3/lib/python3.6/site-packages/requests/adapters.py\", line 423, in send\n",
      "    timeout=timeout\n",
      "  File \"/home/fafun/anaconda3/lib/python3.6/site-packages/requests/packages/urllib3/connectionpool.py\", line 643, in urlopen\n",
      "    _stacktrace=sys.exc_info()[2])\n",
      "  File \"/home/fafun/anaconda3/lib/python3.6/site-packages/requests/packages/urllib3/util/retry.py\", line 363, in increment\n",
      "    raise MaxRetryError(_pool, url, error or ResponseError(cause))\n",
      "requests.packages.urllib3.exceptions.MaxRetryError: HTTPSConnectionPool(host='webpush.wx.qq.com', port=443): Max retries exceeded with url: /cgi-bin/mmwebwx-bin/synccheck?r=1501437362822&skey=%40crypt_78a6b0c7_95a57eafde4a2eaabeef7788f6a46345&sid=mXYIM%2Ba93qQxYVs7&uin=1244902121&deviceid=e220477792206298&synckey=1_663596936%7C2_663596945%7C3_663596469%7C11_663596525%7C13_663480288%7C201_1501436295%7C203_1501422286%7C1000_1501428340%7C1001_1501409192%7C1002_1500889686&_=1501437362822 (Caused by NewConnectionError('<requests.packages.urllib3.connection.VerifiedHTTPSConnection object at 0x2b12a82cb5c0>: Failed to establish a new connection: [Errno -3] Temporary failure in name resolution',))\n",
      "\n",
      "During handling of the above exception, another exception occurred:\n",
      "\n",
      "Traceback (most recent call last):\n",
      "  File \"/home/fafun/anaconda3/lib/python3.6/site-packages/itchat/components/login.py\", line 300, in sync_check\n",
      "    r = self.s.get(url, params=params, headers=headers, timeout=config.TIMEOUT)\n",
      "  File \"/home/fafun/anaconda3/lib/python3.6/site-packages/requests/sessions.py\", line 501, in get\n",
      "    return self.request('GET', url, **kwargs)\n",
      "  File \"/home/fafun/anaconda3/lib/python3.6/site-packages/requests/sessions.py\", line 488, in request\n",
      "    resp = self.send(prep, **send_kwargs)\n",
      "  File \"/home/fafun/anaconda3/lib/python3.6/site-packages/requests/sessions.py\", line 609, in send\n",
      "    r = adapter.send(request, **kwargs)\n",
      "  File \"/home/fafun/anaconda3/lib/python3.6/site-packages/requests/adapters.py\", line 487, in send\n",
      "    raise ConnectionError(e, request=request)\n",
      "requests.exceptions.ConnectionError: HTTPSConnectionPool(host='webpush.wx.qq.com', port=443): Max retries exceeded with url: /cgi-bin/mmwebwx-bin/synccheck?r=1501437362822&skey=%40crypt_78a6b0c7_95a57eafde4a2eaabeef7788f6a46345&sid=mXYIM%2Ba93qQxYVs7&uin=1244902121&deviceid=e220477792206298&synckey=1_663596936%7C2_663596945%7C3_663596469%7C11_663596525%7C13_663480288%7C201_1501436295%7C203_1501422286%7C1000_1501428340%7C1001_1501409192%7C1002_1500889686&_=1501437362822 (Caused by NewConnectionError('<requests.packages.urllib3.connection.VerifiedHTTPSConnection object at 0x2b12a82cb5c0>: Failed to establish a new connection: [Errno -3] Temporary failure in name resolution',))\n",
      "\n",
      "During handling of the above exception, another exception occurred:\n",
      "\n",
      "Traceback (most recent call last):\n",
      "  File \"/home/fafun/anaconda3/lib/python3.6/site-packages/itchat/components/login.py\", line 244, in maintain_loop\n",
      "    i = sync_check(self)\n",
      "  File \"/home/fafun/anaconda3/lib/python3.6/site-packages/itchat/components/login.py\", line 303, in sync_check\n",
      "    if not isinstance(e.args[0].args[1], BadStatusLine):\n",
      "IndexError: tuple index out of range\n",
      "\n"
     ]
    },
    {
     "name": "stderr",
     "output_type": "stream",
     "text": [
      "Traceback (most recent call last):\n",
      "  File \"/home/fafun/anaconda3/lib/python3.6/site-packages/requests/packages/urllib3/connection.py\", line 138, in _new_conn\n",
      "    (self.host, self.port), self.timeout, **extra_kw)\n",
      "  File \"/home/fafun/anaconda3/lib/python3.6/site-packages/requests/packages/urllib3/util/connection.py\", line 75, in create_connection\n",
      "    for res in socket.getaddrinfo(host, port, family, socket.SOCK_STREAM):\n",
      "  File \"/home/fafun/anaconda3/lib/python3.6/socket.py\", line 743, in getaddrinfo\n",
      "    for res in _socket.getaddrinfo(host, port, family, type, proto, flags):\n",
      "socket.gaierror: [Errno -3] Temporary failure in name resolution\n",
      "\n",
      "During handling of the above exception, another exception occurred:\n",
      "\n",
      "Traceback (most recent call last):\n",
      "  File \"/home/fafun/anaconda3/lib/python3.6/site-packages/requests/packages/urllib3/connectionpool.py\", line 594, in urlopen\n",
      "    chunked=chunked)\n",
      "  File \"/home/fafun/anaconda3/lib/python3.6/site-packages/requests/packages/urllib3/connectionpool.py\", line 350, in _make_request\n",
      "    self._validate_conn(conn)\n",
      "  File \"/home/fafun/anaconda3/lib/python3.6/site-packages/requests/packages/urllib3/connectionpool.py\", line 835, in _validate_conn\n",
      "    conn.connect()\n",
      "  File \"/home/fafun/anaconda3/lib/python3.6/site-packages/requests/packages/urllib3/connection.py\", line 281, in connect\n",
      "    conn = self._new_conn()\n",
      "  File \"/home/fafun/anaconda3/lib/python3.6/site-packages/requests/packages/urllib3/connection.py\", line 147, in _new_conn\n",
      "    self, \"Failed to establish a new connection: %s\" % e)\n",
      "requests.packages.urllib3.exceptions.NewConnectionError: <requests.packages.urllib3.connection.VerifiedHTTPSConnection object at 0x2b12a82cb9e8>: Failed to establish a new connection: [Errno -3] Temporary failure in name resolution\n",
      "\n",
      "During handling of the above exception, another exception occurred:\n",
      "\n",
      "Traceback (most recent call last):\n",
      "  File \"/home/fafun/anaconda3/lib/python3.6/site-packages/requests/adapters.py\", line 423, in send\n",
      "    timeout=timeout\n",
      "  File \"/home/fafun/anaconda3/lib/python3.6/site-packages/requests/packages/urllib3/connectionpool.py\", line 643, in urlopen\n",
      "    _stacktrace=sys.exc_info()[2])\n",
      "  File \"/home/fafun/anaconda3/lib/python3.6/site-packages/requests/packages/urllib3/util/retry.py\", line 363, in increment\n",
      "    raise MaxRetryError(_pool, url, error or ResponseError(cause))\n",
      "requests.packages.urllib3.exceptions.MaxRetryError: HTTPSConnectionPool(host='webpush.wx.qq.com', port=443): Max retries exceeded with url: /cgi-bin/mmwebwx-bin/synccheck?r=1501437383850&skey=%40crypt_78a6b0c7_95a57eafde4a2eaabeef7788f6a46345&sid=mXYIM%2Ba93qQxYVs7&uin=1244902121&deviceid=e220477792206298&synckey=1_663596936%7C2_663596945%7C3_663596469%7C11_663596525%7C13_663480288%7C201_1501436295%7C203_1501422286%7C1000_1501428340%7C1001_1501409192%7C1002_1500889686&_=1501437383850 (Caused by NewConnectionError('<requests.packages.urllib3.connection.VerifiedHTTPSConnection object at 0x2b12a82cb9e8>: Failed to establish a new connection: [Errno -3] Temporary failure in name resolution',))\n",
      "\n",
      "During handling of the above exception, another exception occurred:\n",
      "\n",
      "Traceback (most recent call last):\n",
      "  File \"/home/fafun/anaconda3/lib/python3.6/site-packages/itchat/components/login.py\", line 300, in sync_check\n",
      "    r = self.s.get(url, params=params, headers=headers, timeout=config.TIMEOUT)\n",
      "  File \"/home/fafun/anaconda3/lib/python3.6/site-packages/requests/sessions.py\", line 501, in get\n",
      "    return self.request('GET', url, **kwargs)\n",
      "  File \"/home/fafun/anaconda3/lib/python3.6/site-packages/requests/sessions.py\", line 488, in request\n",
      "    resp = self.send(prep, **send_kwargs)\n",
      "  File \"/home/fafun/anaconda3/lib/python3.6/site-packages/requests/sessions.py\", line 609, in send\n",
      "    r = adapter.send(request, **kwargs)\n",
      "  File \"/home/fafun/anaconda3/lib/python3.6/site-packages/requests/adapters.py\", line 487, in send\n",
      "    raise ConnectionError(e, request=request)\n",
      "requests.exceptions.ConnectionError: HTTPSConnectionPool(host='webpush.wx.qq.com', port=443): Max retries exceeded with url: /cgi-bin/mmwebwx-bin/synccheck?r=1501437383850&skey=%40crypt_78a6b0c7_95a57eafde4a2eaabeef7788f6a46345&sid=mXYIM%2Ba93qQxYVs7&uin=1244902121&deviceid=e220477792206298&synckey=1_663596936%7C2_663596945%7C3_663596469%7C11_663596525%7C13_663480288%7C201_1501436295%7C203_1501422286%7C1000_1501428340%7C1001_1501409192%7C1002_1500889686&_=1501437383850 (Caused by NewConnectionError('<requests.packages.urllib3.connection.VerifiedHTTPSConnection object at 0x2b12a82cb9e8>: Failed to establish a new connection: [Errno -3] Temporary failure in name resolution',))\n",
      "\n",
      "During handling of the above exception, another exception occurred:\n",
      "\n",
      "Traceback (most recent call last):\n",
      "  File \"/home/fafun/anaconda3/lib/python3.6/site-packages/itchat/components/login.py\", line 244, in maintain_loop\n",
      "    i = sync_check(self)\n",
      "  File \"/home/fafun/anaconda3/lib/python3.6/site-packages/itchat/components/login.py\", line 303, in sync_check\n",
      "    if not isinstance(e.args[0].args[1], BadStatusLine):\n",
      "IndexError: tuple index out of range\n",
      "\n",
      "Traceback (most recent call last):\n",
      "  File \"/home/fafun/anaconda3/lib/python3.6/site-packages/requests/packages/urllib3/connection.py\", line 138, in _new_conn\n",
      "    (self.host, self.port), self.timeout, **extra_kw)\n",
      "  File \"/home/fafun/anaconda3/lib/python3.6/site-packages/requests/packages/urllib3/util/connection.py\", line 75, in create_connection\n",
      "    for res in socket.getaddrinfo(host, port, family, socket.SOCK_STREAM):\n",
      "  File \"/home/fafun/anaconda3/lib/python3.6/socket.py\", line 743, in getaddrinfo\n",
      "    for res in _socket.getaddrinfo(host, port, family, type, proto, flags):\n",
      "socket.gaierror: [Errno -3] Temporary failure in name resolution\n",
      "\n",
      "During handling of the above exception, another exception occurred:\n",
      "\n",
      "Traceback (most recent call last):\n",
      "  File \"/home/fafun/anaconda3/lib/python3.6/site-packages/requests/packages/urllib3/connectionpool.py\", line 594, in urlopen\n",
      "    chunked=chunked)\n",
      "  File \"/home/fafun/anaconda3/lib/python3.6/site-packages/requests/packages/urllib3/connectionpool.py\", line 350, in _make_request\n",
      "    self._validate_conn(conn)\n",
      "  File \"/home/fafun/anaconda3/lib/python3.6/site-packages/requests/packages/urllib3/connectionpool.py\", line 835, in _validate_conn\n",
      "    conn.connect()\n",
      "  File \"/home/fafun/anaconda3/lib/python3.6/site-packages/requests/packages/urllib3/connection.py\", line 281, in connect\n",
      "    conn = self._new_conn()\n",
      "  File \"/home/fafun/anaconda3/lib/python3.6/site-packages/requests/packages/urllib3/connection.py\", line 147, in _new_conn\n",
      "    self, \"Failed to establish a new connection: %s\" % e)\n",
      "requests.packages.urllib3.exceptions.NewConnectionError: <requests.packages.urllib3.connection.VerifiedHTTPSConnection object at 0x2b12a82cb5c0>: Failed to establish a new connection: [Errno -3] Temporary failure in name resolution\n",
      "\n",
      "During handling of the above exception, another exception occurred:\n",
      "\n",
      "Traceback (most recent call last):\n",
      "  File \"/home/fafun/anaconda3/lib/python3.6/site-packages/requests/adapters.py\", line 423, in send\n",
      "    timeout=timeout\n",
      "  File \"/home/fafun/anaconda3/lib/python3.6/site-packages/requests/packages/urllib3/connectionpool.py\", line 643, in urlopen\n",
      "    _stacktrace=sys.exc_info()[2])\n",
      "  File \"/home/fafun/anaconda3/lib/python3.6/site-packages/requests/packages/urllib3/util/retry.py\", line 363, in increment\n",
      "    raise MaxRetryError(_pool, url, error or ResponseError(cause))\n",
      "requests.packages.urllib3.exceptions.MaxRetryError: HTTPSConnectionPool(host='webpush.wx.qq.com', port=443): Max retries exceeded with url: /cgi-bin/mmwebwx-bin/synccheck?r=1501437404880&skey=%40crypt_78a6b0c7_95a57eafde4a2eaabeef7788f6a46345&sid=mXYIM%2Ba93qQxYVs7&uin=1244902121&deviceid=e220477792206298&synckey=1_663596936%7C2_663596945%7C3_663596469%7C11_663596525%7C13_663480288%7C201_1501436295%7C203_1501422286%7C1000_1501428340%7C1001_1501409192%7C1002_1500889686&_=1501437404880 (Caused by NewConnectionError('<requests.packages.urllib3.connection.VerifiedHTTPSConnection object at 0x2b12a82cb5c0>: Failed to establish a new connection: [Errno -3] Temporary failure in name resolution',))\n",
      "\n",
      "During handling of the above exception, another exception occurred:\n",
      "\n",
      "Traceback (most recent call last):\n",
      "  File \"/home/fafun/anaconda3/lib/python3.6/site-packages/itchat/components/login.py\", line 300, in sync_check\n",
      "    r = self.s.get(url, params=params, headers=headers, timeout=config.TIMEOUT)\n",
      "  File \"/home/fafun/anaconda3/lib/python3.6/site-packages/requests/sessions.py\", line 501, in get\n",
      "    return self.request('GET', url, **kwargs)\n",
      "  File \"/home/fafun/anaconda3/lib/python3.6/site-packages/requests/sessions.py\", line 488, in request\n",
      "    resp = self.send(prep, **send_kwargs)\n",
      "  File \"/home/fafun/anaconda3/lib/python3.6/site-packages/requests/sessions.py\", line 609, in send\n",
      "    r = adapter.send(request, **kwargs)\n",
      "  File \"/home/fafun/anaconda3/lib/python3.6/site-packages/requests/adapters.py\", line 487, in send\n",
      "    raise ConnectionError(e, request=request)\n",
      "requests.exceptions.ConnectionError: HTTPSConnectionPool(host='webpush.wx.qq.com', port=443): Max retries exceeded with url: /cgi-bin/mmwebwx-bin/synccheck?r=1501437404880&skey=%40crypt_78a6b0c7_95a57eafde4a2eaabeef7788f6a46345&sid=mXYIM%2Ba93qQxYVs7&uin=1244902121&deviceid=e220477792206298&synckey=1_663596936%7C2_663596945%7C3_663596469%7C11_663596525%7C13_663480288%7C201_1501436295%7C203_1501422286%7C1000_1501428340%7C1001_1501409192%7C1002_1500889686&_=1501437404880 (Caused by NewConnectionError('<requests.packages.urllib3.connection.VerifiedHTTPSConnection object at 0x2b12a82cb5c0>: Failed to establish a new connection: [Errno -3] Temporary failure in name resolution',))\n",
      "\n",
      "During handling of the above exception, another exception occurred:\n",
      "\n",
      "Traceback (most recent call last):\n",
      "  File \"/home/fafun/anaconda3/lib/python3.6/site-packages/itchat/components/login.py\", line 244, in maintain_loop\n",
      "    i = sync_check(self)\n",
      "  File \"/home/fafun/anaconda3/lib/python3.6/site-packages/itchat/components/login.py\", line 303, in sync_check\n",
      "    if not isinstance(e.args[0].args[1], BadStatusLine):\n",
      "IndexError: tuple index out of range\n",
      "\n"
     ]
    },
    {
     "name": "stderr",
     "output_type": "stream",
     "text": [
      "LOG OUT!\n"
     ]
    }
   ],
   "source": [
    "text=input(\"message your want send:\")\n",
    "sendmsg(text,username)"
   ]
  },
  {
   "cell_type": "code",
   "execution_count": 2,
   "metadata": {},
   "outputs": [
    {
     "name": "stdout",
     "output_type": "stream",
     "text": [
      "'♡♡♡秘密群2'\n",
      "'@@890f713e456b32fd3138277aa1770691e9754409a66d8c44495f0ee5bc66d519'\n",
      "'老太太'\n",
      "'@@bb5d17c7665f6374443f66f6836c8d2fbeff17a8d8a84f69ef83067ed86d4faf'\n",
      "'初中二班老同学'\n",
      "'@@3450698b65052d25c4a8b4f49167b59cfa4b787306ea8854bf80e879f20cf872'\n",
      "'并不是平胸的平兄,reking,王乐乐,牛法富,Longbow,喵饼干,'\n",
      "'@@1089cbe25376ce3539a8b3c5eed02bc37bb876e23630193a9f53526157e0691e'\n"
     ]
    }
   ],
   "source": [
    "import pprint\n",
    "catrooms=newInstance.get_chatrooms(update=True,contactOnly=False)\n",
    "for i in range(len(catrooms)):\n",
    "    pprint.pprint(catrooms[i]['NickName'])\n",
    "    pprint.pprint(catrooms[i]['UserName'])"
   ]
  },
  {
   "cell_type": "code",
   "execution_count": 7,
   "metadata": {},
   "outputs": [
    {
     "name": "stdout",
     "output_type": "stream",
     "text": [
      "@@bb5d17c7665f6374443f66f6836c8d2fbeff17a8d8a84f69ef83067ed86d4faf\n"
     ]
    },
    {
     "name": "stderr",
     "output_type": "stream",
     "text": [
      "LOG OUT!\n"
     ]
    }
   ],
   "source": [
    "group=newInstance.search_chatrooms(name='老太太')\n",
    "username=str(group[0]).split(\",\")[2].split(\":\")[1].strip().replace(\"'\",'')\n",
    "print(username)"
   ]
  },
  {
   "cell_type": "code",
   "execution_count": 24,
   "metadata": {},
   "outputs": [
    {
     "data": {
      "text/plain": [
       "dict_keys(['MemberList', 'Uin', 'UserName', 'NickName', 'HeadImgUrl', 'ContactFlag', 'MemberCount', 'RemarkName', 'HideInputBarFlag', 'Sex', 'Signature', 'VerifyFlag', 'OwnerUin', 'PYInitial', 'PYQuanPin', 'RemarkPYInitial', 'RemarkPYQuanPin', 'StarFriend', 'AppAccountFlag', 'Statues', 'AttrStatus', 'Province', 'City', 'Alias', 'SnsFlag', 'UniFriend', 'DisplayName', 'ChatRoomId', 'KeyWord', 'EncryChatRoomId', 'IsOwner', 'IsAdmin', 'Self'])"
      ]
     },
     "execution_count": 24,
     "metadata": {},
     "output_type": "execute_result"
    }
   ],
   "source": [
    "catrooms[0].keys()"
   ]
  },
  {
   "cell_type": "code",
   "execution_count": 94,
   "metadata": {},
   "outputs": [
    {
     "name": "stdout",
     "output_type": "stream",
     "text": [
      "message your want send:send a message in group\n",
      "message sended:  send a message in group\n"
     ]
    }
   ],
   "source": [
    "username=\"@@a41f70fa8e008f38afb32d51896b36962ecc07dcaaa553370964840a8a26c408\"\n",
    "text=input(\"message your want send:\")\n",
    "sendmsg(text,username)"
   ]
  },
  {
   "cell_type": "code",
   "execution_count": 7,
   "metadata": {},
   "outputs": [
    {
     "data": {
      "text/plain": [
       "<ItchatReturnValue: {'BaseResponse': {'Ret': 1, 'ErrMsg': '', 'RawMsg': ''}, 'MediaId': '', 'StartPos': 0, 'CDNThumbImgHeight': 0, 'CDNThumbImgWidth': 0}>"
      ]
     },
     "execution_count": 7,
     "metadata": {},
     "output_type": "execute_result"
    }
   ],
   "source": [
    "newInstance.send('@img@%s' % (\n",
    "        '170729-161821.gif'),\n",
    "        'filehelper')"
   ]
  },
  {
   "cell_type": "markdown",
   "metadata": {},
   "source": [
    "# this is a very useful website:\n",
    "\n",
    "https://itchat.readthedocs.io/zh/latest/intro/reply/#send_file"
   ]
  },
  {
   "cell_type": "code",
   "execution_count": 9,
   "metadata": {
    "scrolled": false
   },
   "outputs": [
    {
     "data": {
      "text/html": [
       "\n",
       "        <iframe\n",
       "            width=\"100%\"\n",
       "            height=\"750\"\n",
       "            src=\"https://itchat.readthedocs.io/zh/latest/intro/reply/#send_file\"\n",
       "            frameborder=\"0\"\n",
       "            allowfullscreen\n",
       "        ></iframe>\n",
       "        "
      ],
      "text/plain": [
       "<IPython.lib.display.IFrame at 0x2ba15565a240>"
      ]
     },
     "execution_count": 9,
     "metadata": {},
     "output_type": "execute_result"
    }
   ],
   "source": [
    "from IPython.display import IFrame\n",
    "IFrame(\"https://itchat.readthedocs.io/zh/latest/intro/reply/#send_file\",width='100%',height=750)"
   ]
  },
  {
   "cell_type": "code",
   "execution_count": null,
   "metadata": {
    "collapsed": true
   },
   "outputs": [],
   "source": []
  }
 ],
 "metadata": {
  "kernelspec": {
   "display_name": "Python 3",
   "language": "python",
   "name": "python3"
  },
  "language_info": {
   "codemirror_mode": {
    "name": "ipython",
    "version": 3
   },
   "file_extension": ".py",
   "mimetype": "text/x-python",
   "name": "python",
   "nbconvert_exporter": "python",
   "pygments_lexer": "ipython3",
   "version": "3.6.0"
  }
 },
 "nbformat": 4,
 "nbformat_minor": 2
}
