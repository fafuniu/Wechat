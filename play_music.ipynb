{
 "cells": [
  {
   "cell_type": "code",
   "execution_count": 1,
   "metadata": {
    "collapsed": true
   },
   "outputs": [
    {
     "name": "stdout",
     "output_type": "stream",
     "text": [
      "█\r"
     ]
    },
    {
     "name": "stderr",
     "output_type": "stream",
     "text": [
      "Start auto replying.\n"
     ]
    },
    {
     "name": "stdout",
     "output_type": "stream",
     "text": [
      "list\n",
      "list\n",
      "namelist: ['EEinA_01.mp3', 'EEinA_02.mp3', 'Expressions_in_Action_07.mp3', 'Expressions_in_Action_15.mp3', 'EEinA_03.mp3']\n",
      "content: Play list:\n",
      "0: EEinA_01.mp3\n",
      "1: EEinA_02.mp3\n",
      "2: Expressions_in_Action_07.mp3\n",
      "3: Expressions_in_Action_15.mp3\n",
      "4: EEinA_03.mp3\n",
      "Please choose a number:\n",
      "1\n"
     ]
    },
    {
     "name": "stderr",
     "output_type": "stream",
     "text": []}
