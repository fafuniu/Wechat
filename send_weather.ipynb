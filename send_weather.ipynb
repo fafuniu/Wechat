{
 "cells": [
  {
   "cell_type": "markdown",
   "metadata": {},
   "source": [
    "# sending weather or bus information into chatgroup"
   ]
  },
  {
   "cell_type": "code",
   "execution_count": null,
   "metadata": {
    "collapsed": true
   },
   "outputs": [],
   "source": [
    "\n",
    "'''\n",
    "@newInstance.msg_register(itchat.content.TEXT)\n",
    "def reply(msg):\n",
    "    return msg.text\n",
    "'''"
   ]
  },
  {
   "cell_type": "code",
   "execution_count": null,
   "metadata": {
    "collapsed": true
   },
   "outputs": [],
   "source": [
    ")"
   ]
  },
  {
   "cell_type": "code",
   "execution_count": 2,
   "metadata": {
    "collapsed": true
   },
   "outputs": [],
   "source": [
    "catrooms=newInstance.get_chatrooms(update=True)\n",
    "for i in range(len(catrooms)):\n",
    "    pprint.pprint(catrooms[i]['NickName'])\n",
    "    pprint.pprint(catrooms[i]['UserName'])"
   ]
  },
  {
   "cell_type": "code",
   "execution_count": null,
   "metadata": {
    "collapsed": true
   },
   "outputs": [],
   "source": [
    "username=\"@@a41f70fa8e008f38afb32d51896b36962ecc07dcaaa553370964840a8a26c408\"\n",
    "text=input(\"message your want send:\")\n",
    "sendmsg(text,username)"
   ]
  },
  {
   "cell_type": "code",
   "execution_count": 1,
   "metadata": {},
   "outputs": [
    {
     "name": "stdout",
     "output_type": "stream",
     "text": [
      "█\r"
     ]
    },
    {
     "name": "stderr",
     "output_type": "stream",
     "text": [
      "Please press confirm on your phone.\n",
      "Loading the contact, this may take a little while.\n",
      "Login successfully as 牛法富\n"
     ]
    },
    {
     "name": "stdout",
     "output_type": "stream",
     "text": [
      "logged\n",
      "start job\n",
      "@@656cd83ce91814059ab2f20b582388abce97e079dbb7d86b8718fdc97cd04060\n",
      "sending <function sendmsg at 0x2b98c16c2f28>\n",
      "message sended:  The next buses are:\n",
      "10:11pm\n",
      " 10:21pm\n",
      " 10:35pm\n",
      " 10:50pm\n",
      " 11:05pm\n",
      " \n",
      "start job\n",
      "@@656cd83ce91814059ab2f20b582388abce97e079dbb7d86b8718fdc97cd04060\n",
      "sending <function sendmsg at 0x2b98c16c2f28>\n",
      "message sended:  The next buses are:\n",
      "10:35pm\n",
      " 10:50pm\n",
      " 11:05pm\n",
      " 11:20pm\n",
      " 11:33pm\n",
      " \n",
      "start job\n",
      "@@656cd83ce91814059ab2f20b582388abce97e079dbb7d86b8718fdc97cd04060\n",
      "sending <function sendmsg at 0x2b98c16c2f28>\n",
      "message sended:  The next buses are:\n",
      "10:50pm\n",
      " 11:05pm\n",
      " 11:20pm\n",
      " 11:33pm\n",
      " 11:48pm\n",
      " \n",
      "start job\n",
      "@@656cd83ce91814059ab2f20b582388abce97e079dbb7d86b8718fdc97cd04060\n",
      "sending <function sendmsg at 0x2b98c16c2f28>\n",
      "message sended:  The next buses are:\n",
      "11:05pm\n",
      " 11:20pm\n",
      " 11:33pm\n",
      " 11:48pm\n",
      " 12:03am\n",
      " \n"
     ]
    },
    {
     "ename": "KeyboardInterrupt",
     "evalue": "",
     "output_type": "error",
     "traceback": [
      "\u001b[0;31m---------------------------------------------------------------------------\u001b[0m",
      "\u001b[0;31mKeyboardInterrupt\u001b[0m                         Traceback (most recent call last)",
      "\u001b[0;32m<ipython-input-1-0e875adc3df1>\u001b[0m in \u001b[0;36m<module>\u001b[0;34m()\u001b[0m\n\u001b[1;32m     37\u001b[0m \u001b[0;32mwhile\u001b[0m \u001b[0;32mTrue\u001b[0m\u001b[0;34m:\u001b[0m\u001b[0;34m\u001b[0m\u001b[0m\n\u001b[1;32m     38\u001b[0m     \u001b[0mschedule\u001b[0m\u001b[0;34m.\u001b[0m\u001b[0mrun_pending\u001b[0m\u001b[0;34m(\u001b[0m\u001b[0;34m)\u001b[0m\u001b[0;34m\u001b[0m\u001b[0m\n\u001b[0;32m---> 39\u001b[0;31m     \u001b[0mtime\u001b[0m\u001b[0;34m.\u001b[0m\u001b[0msleep\u001b[0m\u001b[0;34m(\u001b[0m\u001b[0;36m500\u001b[0m\u001b[0;34m)\u001b[0m \u001b[0;31m# wait one minute\u001b[0m\u001b[0;34m\u001b[0m\u001b[0m\n\u001b[0m",
      "\u001b[0;31mKeyboardInterrupt\u001b[0m: "
     ]
    },
    {
     "name": "stderr",
     "output_type": "stream",
     "text": [
      "LOG OUT!\n"
     ]
    }
   ],
   "source": [
    "import schedule\n",
    "import time\n",
    "import itchat\n",
    "import urllib.request\n",
    "from bs4 import BeautifulSoup\n",
    "\n",
    "def sendmsg(text,username):\n",
    "    newInstance.send(text, toUserName=username)\n",
    "    print(\"message sended: \",text)\n",
    "          \n",
    "def job():\n",
    "    print(\"start job\")\n",
    "    #get the data first:\n",
    "    content=urllib.request.urlopen(\"http://api.translink.ca/rttiapi/v1/stops/51381/estimates?apikey=OQsA553mmWdUULzqnq4C&count=6&timeframe=120&routeNo=95b\")\n",
    "    cont_txt=content.read()\n",
    "    soup = BeautifulSoup(cont_txt, 'html.parser')\n",
    "    text=soup.schedules.get_text().split('EB1SFU')[2:]\n",
    "    send_text='The next 95-B buses are at:\\n'\n",
    "    for i in text:\n",
    "        send_text=send_text+i[7:14]+\"\\n \"\n",
    "        \n",
    "    group=newInstance.search_chatrooms(name='老太太')\n",
    "    username=str(group[0]).split(\",\")[2].split(\":\")[1].strip().replace(\"'\",'')\n",
    "    print(username)\n",
    "    \n",
    "    #send the data    \n",
    "    print(\"sending\",sendmsg)\n",
    "    sendmsg(send_text,username)\n",
    "\n",
    "newInstance = itchat.new_instance()\n",
    "newInstance.auto_login(hotReload=True, statusStorageDir='chatgroup.pkl')\n",
    "print(\"logged\")\n",
    "\n",
    "#schedule.every(10).minutes.do(job)\n",
    "schedule.every().day.at(\"08:30\").do(job)\n",
    "\n",
    "while True:\n",
    "    schedule.run_pending()\n",
    "    time.sleep(1) # wait one minute"
   ]
  },
  {
   "cell_type": "code",
   "execution_count": 20,
   "metadata": {},
   "outputs": [
    {
     "data": {
      "text/plain": [
       "Every 1 minute do job('time') (last run: [never], next run: 2017-07-31 19:50:35)"
      ]
     },
     "execution_count": 20,
     "metadata": {},
     "output_type": "execute_result"
    }
   ],
   "source": [
    "import schedule\n",
    "def job(t):\n",
    "    print(\"I'm working...\", t)\n",
    "    return\n",
    "schedule.every().minutes.do(job,'time')\n",
    "\n",
    "schedule.every(10).minutes.do(job)\n",
    "schedule.every().hour.do(job)\n",
    "schedule.every().day.at(\"10:30\").do(job)\n",
    "schedule.every().monday.do(job)\n",
    "schedule.every().wednesday.at(\"13:15\").do(job)\n",
    "\n",
    "while True:\n",
    "    schedule.run_pending()\n",
    "    time.sleep(1)  # 1st \n"
   ]
  },
  {
   "cell_type": "code",
   "execution_count": null,
   "metadata": {
    "collapsed": true
   },
   "outputs": [],
   "source": [
    "translink key: OQsA553mmWdUULzqnq4C"
   ]
  },
  {
   "cell_type": "code",
   "execution_count": null,
   "metadata": {
    "collapsed": true
   },
   "outputs": [],
   "source": [
    "095SFU/BURRARD STN (B-LINE)EAST\n",
    "http://nb.translink.ca/geodata/095.kmz\n",
    "    EB1SFU B-LINE7:34pm 2017-07-3114-falsefalsefalsefalse06:07:03 pm\n",
    "    EB1SFU B-LINE7:45pm 2017-07-3125-falsefalsefalsefalse06:16:05 pm\n",
    "    EB1SFU B-LINE8:00pm 2017-07-3140-falsefalsefalsefalse06:34:05 pm"
   ]
  },
  {
   "cell_type": "code",
   "execution_count": null,
   "metadata": {
    "collapsed": true
   },
   "outputs": [],
   "source": [
    "http://api.translink.ca/rttiapi/v1/stops/51381/estimates?apikey=OQsA553mmWdUULzqnq4C&count=6&timeframe=120&routeNo=95b"
   ]
  },
  {
   "cell_type": "code",
   "execution_count": null,
   "metadata": {
    "collapsed": true
   },
   "outputs": [],
   "source": [
    "import urllib.request\n",
    "from bs4 import BeautifulSoup\n",
    "content=urllib.request.urlopen(\"http://api.translink.ca/rttiapi/v1/stops/51381/estimates?apikey=OQsA553mmWdUULzqnq4C&count=6&timeframe=120&routeNo=95b\")\n",
    "cont_txt=content.read()\n",
    "soup = BeautifulSoup(cont_txt, 'html.parser')\n",
    "text=soup.schedules.get_text().split('EB1SFU')[2:]\n",
    "send_text=''\n",
    "for i in text:\n",
    "    send_text=send_text+i[7:14]+\"\\n \"\n"
   ]
  },
  {
   "cell_type": "code",
   "execution_count": 46,
   "metadata": {},
   "outputs": [
    {
     "data": {
      "text/plain": [
       "'8:29pm \\n 8:36pm \\n 8:51pm \\n 9:06pm \\n 9:21pm \\n '"
      ]
     },
     "execution_count": 46,
     "metadata": {},
     "output_type": "execute_result"
    }
   ],
   "source": [
    "send_text"
   ]
  },
  {
   "cell_type": "code",
   "execution_count": 32,
   "metadata": {},
   "outputs": [
    {
     "data": {
      "text/plain": [
       "[' B-LINE8:00pm 2017-07-3116-falsefalsefalsefalse06:34:05 pm',\n",
       " ' B-LINE8:12pm 2017-07-3128-falsefalsefalsefalse06:46:03 pm',\n",
       " ' B-LINE8:24pm 2017-07-3140*falsefalsefalsefalse06:59:04 pm',\n",
       " ' B-LINE8:36pm 2017-07-3152*falsefalsefalsefalse07:14:04 pm',\n",
       " ' B-LINE8:51pm 2017-07-3167 falsefalsefalsefalse07:29:14 pm']"
      ]
     },
     "execution_count": 32,
     "metadata": {},
     "output_type": "execute_result"
    }
   ],
   "source": [
    "text"
   ]
  },
  {
   "cell_type": "code",
   "execution_count": 38,
   "metadata": {
    "collapsed": true
   },
   "outputs": [],
   "source": [
    "text=text.split('EB1SFU')[2:]"
   ]
  },
  {
   "cell_type": "code",
   "execution_count": 42,
   "metadata": {},
   "outputs": [
    {
     "data": {
      "text/plain": [
       "'8:12pm '"
      ]
     },
     "execution_count": 42,
     "metadata": {},
     "output_type": "execute_result"
    }
   ],
   "source": [
    "text[1][7:14]"
   ]
  },
  {
   "cell_type": "code",
   "execution_count": 2,
   "metadata": {},
   "outputs": [
    {
     "name": "stdout",
     "output_type": "stream",
     "text": [
      "█\r"
     ]
    },
    {
     "name": "stderr",
     "output_type": "stream",
     "text": [
      "Please press confirm on your phone.\n",
      "Loading the contact, this may take a little while.\n",
      "Login successfully as 牛法富\n"
     ]
    }
   ],
   "source": [
    "import itchat\n",
    "newInstance = itchat.new_instance()\n",
    "newInstance.auto_login(hotReload=True, statusStorageDir='chatgroup.pkl')"
   ]
  },
  {
   "cell_type": "code",
   "execution_count": 3,
   "metadata": {},
   "outputs": [
    {
     "name": "stdout",
     "output_type": "stream",
     "text": [
      "[]\n"
     ]
    },
    {
     "ename": "IndexError",
     "evalue": "list index out of range",
     "output_type": "error",
     "traceback": [
      "\u001b[0;31m---------------------------------------------------------------------------\u001b[0m",
      "\u001b[0;31mIndexError\u001b[0m                                Traceback (most recent call last)",
      "\u001b[0;32m<ipython-input-3-25314c38dd3b>\u001b[0m in \u001b[0;36m<module>\u001b[0;34m()\u001b[0m\n\u001b[1;32m      1\u001b[0m \u001b[0mgroup\u001b[0m\u001b[0;34m=\u001b[0m\u001b[0mnewInstance\u001b[0m\u001b[0;34m.\u001b[0m\u001b[0msearch_chatrooms\u001b[0m\u001b[0;34m(\u001b[0m\u001b[0mname\u001b[0m\u001b[0;34m=\u001b[0m\u001b[0;34m'老太太'\u001b[0m\u001b[0;34m)\u001b[0m\u001b[0;34m\u001b[0m\u001b[0m\n\u001b[1;32m      2\u001b[0m \u001b[0mprint\u001b[0m\u001b[0;34m(\u001b[0m\u001b[0mgroup\u001b[0m\u001b[0;34m)\u001b[0m\u001b[0;34m\u001b[0m\u001b[0m\n\u001b[0;32m----> 3\u001b[0;31m \u001b[0musername\u001b[0m\u001b[0;34m=\u001b[0m\u001b[0mstr\u001b[0m\u001b[0;34m(\u001b[0m\u001b[0mgroup\u001b[0m\u001b[0;34m[\u001b[0m\u001b[0;36m0\u001b[0m\u001b[0;34m]\u001b[0m\u001b[0;34m)\u001b[0m\u001b[0;34m.\u001b[0m\u001b[0msplit\u001b[0m\u001b[0;34m(\u001b[0m\u001b[0;34m\",\"\u001b[0m\u001b[0;34m)\u001b[0m\u001b[0;34m[\u001b[0m\u001b[0;36m2\u001b[0m\u001b[0;34m]\u001b[0m\u001b[0;34m.\u001b[0m\u001b[0msplit\u001b[0m\u001b[0;34m(\u001b[0m\u001b[0;34m\":\"\u001b[0m\u001b[0;34m)\u001b[0m\u001b[0;34m[\u001b[0m\u001b[0;36m1\u001b[0m\u001b[0;34m]\u001b[0m\u001b[0;34m.\u001b[0m\u001b[0mstrip\u001b[0m\u001b[0;34m(\u001b[0m\u001b[0;34m)\u001b[0m\u001b[0;34m.\u001b[0m\u001b[0mreplace\u001b[0m\u001b[0;34m(\u001b[0m\u001b[0;34m\"'\"\u001b[0m\u001b[0;34m,\u001b[0m\u001b[0;34m''\u001b[0m\u001b[0;34m)\u001b[0m\u001b[0;34m\u001b[0m\u001b[0m\n\u001b[0m\u001b[1;32m      4\u001b[0m \u001b[0mprint\u001b[0m\u001b[0;34m(\u001b[0m\u001b[0musername\u001b[0m\u001b[0;34m)\u001b[0m\u001b[0;34m\u001b[0m\u001b[0m\n",
      "\u001b[0;31mIndexError\u001b[0m: list index out of range"
     ]
    }
   ],
   "source": [
    "group=newInstance.search_chatrooms(name='老太太')\n",
    "print(group)\n",
    "username=str(group[0]).split(\",\")[2].split(\":\")[1].strip().replace(\"'\",'')\n",
    "print(username)"
   ]
  },
  {
   "cell_type": "code",
   "execution_count": 4,
   "metadata": {},
   "outputs": [
    {
     "name": "stdout",
     "output_type": "stream",
     "text": [
      "'FGT公司团队'\n",
      "'@@ad1f52984a128f7ef1737ab2330393791ed91c65c8983812792ce5a38bcf808f'\n",
      "'测井数据解释讨论组'\n",
      "'@@b19b581c5eb78048912977f63930d77135ebf0b76a352fa87abaee027df1cc46'\n",
      "'初中二班老同学'\n",
      "'@@74c88a02271f41b7fbb210583d27593ec12bbb9e85cef468a1d87baf2ee154ac'\n",
      "'♡♡♡秘密群2'\n",
      "'@@e45aff67d7baac3c7ae564001323e76e2405c425644f23c6f5123fb0f4c3862d'\n"
     ]
    }
   ],
   "source": [
    "import pprint\n",
    "catrooms=newInstance.get_chatrooms(update=True,contactOnly=False)\n",
    "for i in range(len(catrooms)):\n",
    "    pprint.pprint(catrooms[i]['NickName'])\n",
    "    pprint.pprint(catrooms[i]['UserName'])"
   ]
  },
  {
   "cell_type": "code",
   "execution_count": null,
   "metadata": {
    "collapsed": true
   },
   "outputs": [],
   "source": []
  }
 ],
 "metadata": {
  "kernelspec": {
   "display_name": "Python 3",
   "language": "python",
   "name": "python3"
  },
  "language_info": {
   "codemirror_mode": {
    "name": "ipython",
    "version": 3
   },
   "file_extension": ".py",
   "mimetype": "text/x-python",
   "name": "python",
   "nbconvert_exporter": "python",
   "pygments_lexer": "ipython3",
   "version": "3.6.0"
  }
 },
 "nbformat": 4,
 "nbformat_minor": 2
}
