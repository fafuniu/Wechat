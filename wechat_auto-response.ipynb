{
 "cells": [
  {
   "cell_type": "markdown",
   "metadata": {},
   "source": [
    "# response with the text you recieved"
   ]
  },
  {
   "cell_type": "code",
   "execution_count": null,
   "metadata": {
    "collapsed": true
   },
   "outputs": [],
   "source": [
    "import itchat, time\n",
    "from itchat.content import *\n",
    "\n",
    "@itchat.msg_register([TEXT, MAP, CARD, NOTE, SHARING])\n",
    "def text_reply(msg):\n",
    "    msg.user.send('%s:  %s' % (msg.type, \"this is response\"))#msg.text))\n",
    "\n",
    "@itchat.msg_register([PICTURE, RECORDING, ATTACHMENT, VIDEO])\n",
    "def download_files(msg):\n",
    "    msg.download(msg.fileName)\n",
    "    typeSymbol = {\n",
    "        PICTURE: 'img',\n",
    "        VIDEO: 'vid', }.get(msg.type, 'fil')\n",
    "    return '@%s@%s' % (typeSymbol, msg.fileName)\n",
    "\n",
    "@itchat.msg_register(FRIENDS)\n",
    "def add_friend(msg):\n",
    "    msg.user.verify()\n",
    "    msg.user.send('Nice to meet you!')\n",
    "\n",
    "@itchat.msg_register(TEXT, isGroupChat=True)\n",
    "def text_reply(msg):\n",
    "    if msg.isAt:\n",
    "        msg.user.send(u'@%s\\u2005I received: %s' % (\n",
    "            msg.actualNickName, msg.text))\n",
    "\n",
    "itchat.auto_login(True)\n",
    "itchat.run(True)"
   ]
  },
  {
   "cell_type": "markdown",
   "metadata": {},
   "source": [
    "# response with text you defined"
   ]
  },
  {
   "cell_type": "code",
   "execution_count": null,
   "metadata": {},
   "outputs": [
    {
     "name": "stdout",
     "output_type": "stream",
     "text": [
      "█\r"
     ]
    },
    {
     "name": "stderr",
     "output_type": "stream",
     "text": [
      "Start auto replying.\n"
     ]
    },
    {
     "name": "stdout",
     "output_type": "stream",
     "text": [
      "hello\n"      
     ]
    }
   ],
   "source": [
    "import itchat, time\n",
    "from itchat.content import *\n",
    "\n",
    "newInstance = itchat.new_instance()\n",
    "newInstance.auto_login(hotReload=True, statusStorageDir='newInstance_little.pkl')\n",
    "\n",
    "@newInstance.msg_register([TEXT, MAP, CARD, NOTE, SHARING])\n",
    "def text_reply(msg):\n",
    "    print(msg[\"NickName\"],msg.text)\n",
    "    #print(msg)\n",
    "    #print(msg[\"FromUserName\"])\n",
    "    if msg[\"FromUserName\"] !=  newInstance.get_friends()[0][\"UserName\"]:\n",
    "        msg.user.send('%s' % (\"This is an auto-response from my computer, I will contact you ASAP.\"))#msg.text))\n",
    "\n",
    "\n",
    "@newInstance.msg_register([PICTURE, RECORDING, ATTACHMENT, VIDEO])\n",
    "def download_files(msg):\n",
    "    msg.download(msg.fileName)\n",
    "    typeSymbol = {\n",
    "        PICTURE: 'img',\n",
    "        VIDEO: 'vid', }.get(msg.type, 'fil')\n",
    "    return '@%s@%s' % (typeSymbol, msg.fileName)\n",
    "\n",
    "@newInstance.msg_register(FRIENDS)\n",
    "def add_friend(msg):\n",
    "    msg.user.verify()\n",
    "    msg.user.send('Nice to meet you!')\n",
    "\n",
    "@newInstance.msg_register(TEXT, isGroupChat=True)\n",
    "def text_reply(msg):\n",
    "    if msg.isAt:\n",
    "        msg.user.send(u'@%s %s' % (\n",
    "            msg.actualNickName, \"This is an auto-response from my computer, I will contact you ASAP.\"))\n",
    "\n",
    "newInstance.run()"
   ]
  },
  {
   "cell_type": "code",
   "execution_count": null,
   "metadata": {
    "collapsed": true
   },
   "outputs": [],
   "source": [
    "newInstance.logout()"
   ]
  },
  {
   "cell_type": "code",
   "execution_count": null,
   "metadata": {
    "collapsed": true
   },
   "outputs": [],
   "source": []
  }
 ],
 "metadata": {
  "kernelspec": {
   "display_name": "Python 3",
   "language": "python",
   "name": "python3"
  },
  "language_info": {
   "codemirror_mode": {
    "name": "ipython",
    "version": 3
   },
   "file_extension": ".py",
   "mimetype": "text/x-python",
   "name": "python",
   "nbconvert_exporter": "python",
   "pygments_lexer": "ipython3",
   "version": "3.6.0"
  }
 },
 "nbformat": 4,
 "nbformat_minor": 2
}
