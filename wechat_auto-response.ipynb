{
 "cells": [
  {
   "cell_type": "markdown",
   "metadata": {},
   "source": [
    "# response with the text you recieved"
   ]
  },
  {
   "cell_type": "code",
   "execution_count": null,
   "metadata": {
    "collapsed": true
   },
   "outputs": [],
   "source": [
    "import itchat, time\n",
    "from itchat.content import *\n",
    "\n",
    "@itchat.msg_register([TEXT, MAP, CARD, NOTE, SHARING])\n",
    "def text_reply(msg):\n",
    "    msg.user.send('%s:  %s' % (msg.type, \"this is response\"))#msg.text))\n",
    "\n",
    "@itchat.msg_register([PICTURE, RECORDING, ATTACHMENT, VIDEO])\n",
    "def download_files(msg):\n",
    "    msg.download(msg.fileName)\n",
    "    typeSymbol = {\n",
    "        PICTURE: 'img',\n",
    "        VIDEO: 'vid', }.get(msg.type, 'fil')\n",
    "    return '@%s@%s' % (typeSymbol, msg.fileName)\n",
    "\n",
    "@itchat.msg_register(FRIENDS)\n",
    "def add_friend(msg):\n",
    "    msg.user.verify()\n",
    "    msg.user.send('Nice to meet you!')\n",
    "\n",
    "@itchat.msg_register(TEXT, isGroupChat=True)\n",
    "def text_reply(msg):\n",
    "    if msg.isAt:\n",
    "        msg.user.send(u'@%s\\u2005I received: %s' % (\n",
    "            msg.actualNickName, msg.text))\n",
    "\n",
    "itchat.auto_login(True)\n",
    "itchat.run(True)"
   ]
  },
  {
   "cell_type": "markdown",
   "metadata": {},
   "source": [
    "# response with text you defined"
   ]
  },
  {
   "cell_type": "code",
   "execution_count": null,
   "metadata": {},
   "outputs": [
    {
     "name": "stdout",
     "output_type": "stream",
     "text": [
      "█\r"
     ]
    },
    {
     "name": "stderr",
     "output_type": "stream",
     "text": [
      "Start auto replying.\n"
     ]
    },
    {
     "name": "stdout",
     "output_type": "stream",
     "text": [
      "hello\n",
      "{'MsgId': '4883440724161807696', 'FromUserName': '@d9f95ac9dd07d7a1fb6349970e3e11e2136a1af43cb47550d65a5d8006b1b3aa', 'ToUserName': '@ac6bd81e3902b8f9bc683f3187fd7ea4e25685679dec73dc348138abe863f879', 'MsgType': 1, 'Content': 'hello', 'Status': 3, 'ImgStatus': 1, 'CreateTime': 1501528648, 'VoiceLength': 0, 'PlayLength': 0, 'FileName': '', 'FileSize': '', 'MediaId': '', 'Url': '', 'AppMsgType': 0, 'StatusNotifyCode': 0, 'StatusNotifyUserName': '', 'RecommendInfo': {'UserName': '', 'NickName': '', 'QQNum': 0, 'Province': '', 'City': '', 'Content': '', 'Signature': '', 'Alias': '', 'Scene': 0, 'VerifyFlag': 0, 'AttrStatus': 0, 'Sex': 0, 'Ticket': '', 'OpCode': 0}, 'ForwardFlag': 0, 'AppInfo': {'AppID': '', 'Type': 0}, 'HasProductId': 0, 'Ticket': '', 'ImgHeight': 0, 'ImgWidth': 0, 'SubMsgType': 0, 'NewMsgId': 4883440724161807696, 'OriContent': '', 'User': <User: {'MemberList': <ContactList: []>, 'Uin': 0, 'UserName': '@d9f95ac9dd07d7a1fb6349970e3e11e2136a1af43cb47550d65a5d8006b1b3aa', 'NickName': '牛法富', 'HeadImgUrl': '/cgi-bin/mmwebwx-bin/webwxgeticon?seq=639962813&username=@d9f95ac9dd07d7a1fb6349970e3e11e2136a1af43cb47550d65a5d8006b1b3aa&skey=@crypt_f87fdaf9_4e049004231f97e4e78ccd69d871991a', 'ContactFlag': 3, 'MemberCount': 0, 'RemarkName': '', 'HideInputBarFlag': 0, 'Sex': 1, 'Signature': '', 'VerifyFlag': 0, 'OwnerUin': 0, 'PYInitial': 'NFF', 'PYQuanPin': 'niufafu', 'RemarkPYInitial': '', 'RemarkPYQuanPin': '', 'StarFriend': 0, 'AppAccountFlag': 0, 'Statues': 0, 'AttrStatus': 33657021, 'Province': '北京', 'City': '海淀', 'Alias': '', 'SnsFlag': 17, 'UniFriend': 0, 'DisplayName': '', 'ChatRoomId': 0, 'KeyWord': '', 'EncryChatRoomId': '', 'IsOwner': 0}>, 'Type': 'Text', 'Text': 'hello'}\n",
      "@d9f95ac9dd07d7a1fb6349970e3e11e2136a1af43cb47550d65a5d8006b1b3aa\n",
      "OK\n",
      "{'MsgId': '911753370877927423', 'FromUserName': '@ac6bd81e3902b8f9bc683f3187fd7ea4e25685679dec73dc348138abe863f879', 'ToUserName': '@d9f95ac9dd07d7a1fb6349970e3e11e2136a1af43cb47550d65a5d8006b1b3aa', 'MsgType': 1, 'Content': 'OK', 'Status': 3, 'ImgStatus': 1, 'CreateTime': 1501528778, 'VoiceLength': 0, 'PlayLength': 0, 'FileName': '', 'FileSize': '', 'MediaId': '', 'Url': '', 'AppMsgType': 0, 'StatusNotifyCode': 0, 'StatusNotifyUserName': '', 'RecommendInfo': {'UserName': '', 'NickName': '', 'QQNum': 0, 'Province': '', 'City': '', 'Content': '', 'Signature': '', 'Alias': '', 'Scene': 0, 'VerifyFlag': 0, 'AttrStatus': 0, 'Sex': 0, 'Ticket': '', 'OpCode': 0}, 'ForwardFlag': 0, 'AppInfo': {'AppID': '', 'Type': 0}, 'HasProductId': 0, 'Ticket': '', 'ImgHeight': 0, 'ImgWidth': 0, 'SubMsgType': 0, 'NewMsgId': 911753370877927423, 'OriContent': '', 'User': <User: {'MemberList': <ContactList: []>, 'Uin': 0, 'UserName': '@d9f95ac9dd07d7a1fb6349970e3e11e2136a1af43cb47550d65a5d8006b1b3aa', 'NickName': '牛法富', 'HeadImgUrl': '/cgi-bin/mmwebwx-bin/webwxgeticon?seq=639962813&username=@d9f95ac9dd07d7a1fb6349970e3e11e2136a1af43cb47550d65a5d8006b1b3aa&skey=@crypt_f87fdaf9_4e049004231f97e4e78ccd69d871991a', 'ContactFlag': 3, 'MemberCount': 0, 'RemarkName': '', 'HideInputBarFlag': 0, 'Sex': 1, 'Signature': '', 'VerifyFlag': 0, 'OwnerUin': 0, 'PYInitial': 'NFF', 'PYQuanPin': 'niufafu', 'RemarkPYInitial': '', 'RemarkPYQuanPin': '', 'StarFriend': 0, 'AppAccountFlag': 0, 'Statues': 0, 'AttrStatus': 33657021, 'Province': '北京', 'City': '海淀', 'Alias': '', 'SnsFlag': 17, 'UniFriend': 0, 'DisplayName': '', 'ChatRoomId': 0, 'KeyWord': '', 'EncryChatRoomId': '', 'IsOwner': 0}>, 'Type': 'Text', 'Text': 'OK'}\n",
      "@ac6bd81e3902b8f9bc683f3187fd7ea4e25685679dec73dc348138abe863f879\n",
      "I See your massage\n",
      "{'MsgId': '7206399355001621604', 'FromUserName': '@ac6bd81e3902b8f9bc683f3187fd7ea4e25685679dec73dc348138abe863f879', 'ToUserName': '@d9f95ac9dd07d7a1fb6349970e3e11e2136a1af43cb47550d65a5d8006b1b3aa', 'MsgType': 1, 'Content': 'I See your massage', 'Status': 3, 'ImgStatus': 1, 'CreateTime': 1501528801, 'VoiceLength': 0, 'PlayLength': 0, 'FileName': '', 'FileSize': '', 'MediaId': '', 'Url': '', 'AppMsgType': 0, 'StatusNotifyCode': 0, 'StatusNotifyUserName': '', 'RecommendInfo': {'UserName': '', 'NickName': '', 'QQNum': 0, 'Province': '', 'City': '', 'Content': '', 'Signature': '', 'Alias': '', 'Scene': 0, 'VerifyFlag': 0, 'AttrStatus': 0, 'Sex': 0, 'Ticket': '', 'OpCode': 0}, 'ForwardFlag': 0, 'AppInfo': {'AppID': '', 'Type': 0}, 'HasProductId': 0, 'Ticket': '', 'ImgHeight': 0, 'ImgWidth': 0, 'SubMsgType': 0, 'NewMsgId': 7206399355001621604, 'OriContent': '', 'User': <User: {'MemberList': <ContactList: []>, 'Uin': 0, 'UserName': '@d9f95ac9dd07d7a1fb6349970e3e11e2136a1af43cb47550d65a5d8006b1b3aa', 'NickName': '牛法富', 'HeadImgUrl': '/cgi-bin/mmwebwx-bin/webwxgeticon?seq=639962813&username=@d9f95ac9dd07d7a1fb6349970e3e11e2136a1af43cb47550d65a5d8006b1b3aa&skey=@crypt_f87fdaf9_4e049004231f97e4e78ccd69d871991a', 'ContactFlag': 3, 'MemberCount': 0, 'RemarkName': '', 'HideInputBarFlag': 0, 'Sex': 1, 'Signature': '', 'VerifyFlag': 0, 'OwnerUin': 0, 'PYInitial': 'NFF', 'PYQuanPin': 'niufafu', 'RemarkPYInitial': '', 'RemarkPYQuanPin': '', 'StarFriend': 0, 'AppAccountFlag': 0, 'Statues': 0, 'AttrStatus': 33657021, 'Province': '北京', 'City': '海淀', 'Alias': '', 'SnsFlag': 17, 'UniFriend': 0, 'DisplayName': '', 'ChatRoomId': 0, 'KeyWord': '', 'EncryChatRoomId': '', 'IsOwner': 0}>, 'Type': 'Text', 'Text': 'I See your massage'}\n",
      "@ac6bd81e3902b8f9bc683f3187fd7ea4e25685679dec73dc348138abe863f879\n",
      "good\n",
      "{'MsgId': '4056401219979029121', 'FromUserName': '@d9f95ac9dd07d7a1fb6349970e3e11e2136a1af43cb47550d65a5d8006b1b3aa', 'ToUserName': '@ac6bd81e3902b8f9bc683f3187fd7ea4e25685679dec73dc348138abe863f879', 'MsgType': 1, 'Content': 'good', 'Status': 3, 'ImgStatus': 1, 'CreateTime': 1501528809, 'VoiceLength': 0, 'PlayLength': 0, 'FileName': '', 'FileSize': '', 'MediaId': '', 'Url': '', 'AppMsgType': 0, 'StatusNotifyCode': 0, 'StatusNotifyUserName': '', 'RecommendInfo': {'UserName': '', 'NickName': '', 'QQNum': 0, 'Province': '', 'City': '', 'Content': '', 'Signature': '', 'Alias': '', 'Scene': 0, 'VerifyFlag': 0, 'AttrStatus': 0, 'Sex': 0, 'Ticket': '', 'OpCode': 0}, 'ForwardFlag': 0, 'AppInfo': {'AppID': '', 'Type': 0}, 'HasProductId': 0, 'Ticket': '', 'ImgHeight': 0, 'ImgWidth': 0, 'SubMsgType': 0, 'NewMsgId': 4056401219979029121, 'OriContent': '', 'User': <User: {'MemberList': <ContactList: []>, 'Uin': 0, 'UserName': '@d9f95ac9dd07d7a1fb6349970e3e11e2136a1af43cb47550d65a5d8006b1b3aa', 'NickName': '牛法富', 'HeadImgUrl': '/cgi-bin/mmwebwx-bin/webwxgeticon?seq=639962813&username=@d9f95ac9dd07d7a1fb6349970e3e11e2136a1af43cb47550d65a5d8006b1b3aa&skey=@crypt_f87fdaf9_4e049004231f97e4e78ccd69d871991a', 'ContactFlag': 3, 'MemberCount': 0, 'RemarkName': '', 'HideInputBarFlag': 0, 'Sex': 1, 'Signature': '', 'VerifyFlag': 0, 'OwnerUin': 0, 'PYInitial': 'NFF', 'PYQuanPin': 'niufafu', 'RemarkPYInitial': '', 'RemarkPYQuanPin': '', 'StarFriend': 0, 'AppAccountFlag': 0, 'Statues': 0, 'AttrStatus': 33657021, 'Province': '北京', 'City': '海淀', 'Alias': '', 'SnsFlag': 17, 'UniFriend': 0, 'DisplayName': '', 'ChatRoomId': 0, 'KeyWord': '', 'EncryChatRoomId': '', 'IsOwner': 0}>, 'Type': 'Text', 'Text': 'good'}\n",
      "@d9f95ac9dd07d7a1fb6349970e3e11e2136a1af43cb47550d65a5d8006b1b3aa\n"
     ]
    }
   ],
   "source": [
    "import itchat, time\n",
    "from itchat.content import *\n",
    "\n",
    "newInstance = itchat.new_instance()\n",
    "newInstance.auto_login(hotReload=True, statusStorageDir='newInstance_little.pkl')\n",
    "\n",
    "@newInstance.msg_register([TEXT, MAP, CARD, NOTE, SHARING])\n",
    "def text_reply(msg):\n",
    "    print(msg[\"NickName\"],msg.text)\n",
    "    #print(msg)\n",
    "    #print(msg[\"FromUserName\"])\n",
    "    if msg[\"FromUserName\"] !=  newInstance.get_friends()[0][\"UserName\"]:\n",
    "        msg.user.send('%s' % (\"This is an auto-response from my computer, I will contact you ASAP.\"))#msg.text))\n",
    "\n",
    "\n",
    "@newInstance.msg_register([PICTURE, RECORDING, ATTACHMENT, VIDEO])\n",
    "def download_files(msg):\n",
    "    msg.download(msg.fileName)\n",
    "    typeSymbol = {\n",
    "        PICTURE: 'img',\n",
    "        VIDEO: 'vid', }.get(msg.type, 'fil')\n",
    "    return '@%s@%s' % (typeSymbol, msg.fileName)\n",
    "\n",
    "@newInstance.msg_register(FRIENDS)\n",
    "def add_friend(msg):\n",
    "    msg.user.verify()\n",
    "    msg.user.send('Nice to meet you!')\n",
    "\n",
    "@newInstance.msg_register(TEXT, isGroupChat=True)\n",
    "def text_reply(msg):\n",
    "    if msg.isAt:\n",
    "        msg.user.send(u'@%s %s' % (\n",
    "            msg.actualNickName, \"This is an auto-response from my computer, I will contact you ASAP.\"))\n",
    "\n",
    "newInstance.run()"
   ]
  },
  {
   "cell_type": "code",
   "execution_count": null,
   "metadata": {
    "collapsed": true
   },
   "outputs": [],
   "source": [
    "newInstance.logout()"
   ]
  },
  {
   "cell_type": "code",
   "execution_count": null,
   "metadata": {
    "collapsed": true
   },
   "outputs": [],
   "source": []
  }
 ],
 "metadata": {
  "kernelspec": {
   "display_name": "Python 3",
   "language": "python",
   "name": "python3"
  },
  "language_info": {
   "codemirror_mode": {
    "name": "ipython",
    "version": 3
   },
   "file_extension": ".py",
   "mimetype": "text/x-python",
   "name": "python",
   "nbconvert_exporter": "python",
   "pygments_lexer": "ipython3",
   "version": "3.6.0"
  }
 },
 "nbformat": 4,
 "nbformat_minor": 2
}
